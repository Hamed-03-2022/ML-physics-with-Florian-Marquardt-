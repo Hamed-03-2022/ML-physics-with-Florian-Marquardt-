{
 "cells": [
  {
   "cell_type": "code",
   "execution_count": 43,
   "id": "1e6662f7-a8a0-4a63-8a0e-dc292e2eef65",
   "metadata": {},
   "outputs": [],
   "source": [
    "import matplotlib.pyplot as plt\n",
    "import numpy as np\n",
    "import pandas as pd\n",
    "import sklearn.linear_model\n",
    "\n",
    "# Load the datasets with specified encoding and options\n",
    "oecd_bli = pd.read_csv(r\"C:\\Users\\Hamed\\Desktop\\ML py JA Ju\\ML python\\handson-ml2-master\\handson-ml2-master\\datasets\\lifesat\\oecd_bli_2015.csv\", thousands=',')\n",
    "gdp_per_capita = pd.read_csv(r\"C:\\Users\\Hamed\\Desktop\\ML py JA Ju\\ML python\\handson-ml2-master\\handson-ml2-master\\datasets\\lifesat\\gdp_per_capita.csv\", thousands=',', delimiter='\\t', encoding='latin1', na_values=\"n/a\")\n",
    "\n",
    "\n",
    "country_stats = prepare_country_stats(oecd_bli, gdp_per_capita)\n"
   ]
  },
  {
   "cell_type": "code",
   "execution_count": 45,
   "id": "5ed2000c-9424-42c7-a31b-ff903fb76da9",
   "metadata": {},
   "outputs": [],
   "source": [
    "country_stats = prepare_country_stats(oecd_bli, gdp_per_capita)\n"
   ]
  },
  {
   "cell_type": "code",
   "execution_count": 46,
   "id": "b459158d-e260-4db0-bc03-bfddb9004b6d",
   "metadata": {},
   "outputs": [
    {
     "name": "stdout",
     "output_type": "stream",
     "text": [
      "Index(['LOCATION', 'Country', 'INDICATOR', 'Indicator', 'MEASURE', 'Measure',\n",
      "       'INEQUALITY', 'Inequality', 'Unit Code', 'Unit', 'PowerCode Code',\n",
      "       'PowerCode', 'Reference Period Code', 'Reference Period', 'Value',\n",
      "       'Flag Codes', 'Flags', 'Subject Descriptor', 'Units', 'Scale',\n",
      "       'Country/Series-specific Notes', '2015', 'Estimates Start After'],\n",
      "      dtype='object')\n"
     ]
    }
   ],
   "source": [
    "print(country_stats.columns)\n"
   ]
  },
  {
   "cell_type": "code",
   "execution_count": 47,
   "id": "884fab49-d7b7-489e-8bd2-bc53dd47971e",
   "metadata": {},
   "outputs": [
    {
     "name": "stdout",
     "output_type": "stream",
     "text": [
      "  LOCATION    Country INDICATOR                           Indicator MEASURE  \\\n",
      "0      AUS  Australia   HO_BASE  Dwellings without basic facilities       L   \n",
      "1      AUS  Australia   HO_BASE  Dwellings without basic facilities       L   \n",
      "2      AUS  Australia   HO_BASE  Dwellings without basic facilities       L   \n",
      "3      AUS  Australia   HO_HISH                 Housing expenditure       L   \n",
      "4      AUS  Australia   HO_HISH                 Housing expenditure       L   \n",
      "\n",
      "  Measure INEQUALITY Inequality Unit Code        Unit  ...  Reference Period  \\\n",
      "0   Value        TOT      Total        PC  Percentage  ...               NaN   \n",
      "1   Value         MN        Men        PC  Percentage  ...               NaN   \n",
      "2   Value        WMN      Women        PC  Percentage  ...               NaN   \n",
      "3   Value        TOT      Total        PC  Percentage  ...               NaN   \n",
      "4   Value         MN        Men        PC  Percentage  ...               NaN   \n",
      "\n",
      "  Value  Flag Codes            Flags  \\\n",
      "0   1.1           E  Estimated value   \n",
      "1   1.1           E  Estimated value   \n",
      "2   1.1           E  Estimated value   \n",
      "3  20.0         NaN              NaN   \n",
      "4  20.0           E  Estimated value   \n",
      "\n",
      "                                  Subject Descriptor         Units  Scale  \\\n",
      "0  Gross domestic product per capita, current prices  U.S. dollars  Units   \n",
      "1  Gross domestic product per capita, current prices  U.S. dollars  Units   \n",
      "2  Gross domestic product per capita, current prices  U.S. dollars  Units   \n",
      "3  Gross domestic product per capita, current prices  U.S. dollars  Units   \n",
      "4  Gross domestic product per capita, current prices  U.S. dollars  Units   \n",
      "\n",
      "                       Country/Series-specific Notes       2015  \\\n",
      "0  See notes for:  Gross domestic product, curren...  50961.865   \n",
      "1  See notes for:  Gross domestic product, curren...  50961.865   \n",
      "2  See notes for:  Gross domestic product, curren...  50961.865   \n",
      "3  See notes for:  Gross domestic product, curren...  50961.865   \n",
      "4  See notes for:  Gross domestic product, curren...  50961.865   \n",
      "\n",
      "  Estimates Start After  \n",
      "0                2014.0  \n",
      "1                2014.0  \n",
      "2                2014.0  \n",
      "3                2014.0  \n",
      "4                2014.0  \n",
      "\n",
      "[5 rows x 23 columns]\n"
     ]
    }
   ],
   "source": [
    "print(country_stats.head())\n"
   ]
  },
  {
   "cell_type": "code",
   "execution_count": 51,
   "id": "d0539ed7-ee70-4479-9cf0-0025c174ec51",
   "metadata": {},
   "outputs": [],
   "source": [
    "def prepare_country_stats(oecd_bli, gdp_per_capita):\n",
    "    merged = pd.merge(left=oecd_bli, right=gdp_per_capita, left_on=\"Country\", right_on=\"Country\")\n",
    "    return merged\n"
   ]
  },
  {
   "cell_type": "code",
   "execution_count": 52,
   "id": "e7090745-a0c4-4f26-b809-257c959f90a8",
   "metadata": {},
   "outputs": [
    {
     "name": "stdout",
     "output_type": "stream",
     "text": [
      "Index(['LOCATION', 'Country', 'INDICATOR', 'Indicator', 'MEASURE', 'Measure',\n",
      "       'INEQUALITY', 'Inequality', 'Unit Code', 'Unit', 'PowerCode Code',\n",
      "       'PowerCode', 'Reference Period Code', 'Reference Period', 'Value',\n",
      "       'Flag Codes', 'Flags', 'Subject Descriptor', 'Units', 'Scale',\n",
      "       'Country/Series-specific Notes', '2015', 'Estimates Start After'],\n",
      "      dtype='object')\n",
      "  LOCATION    Country INDICATOR                           Indicator MEASURE  \\\n",
      "0      AUS  Australia   HO_BASE  Dwellings without basic facilities       L   \n",
      "1      AUS  Australia   HO_BASE  Dwellings without basic facilities       L   \n",
      "2      AUS  Australia   HO_BASE  Dwellings without basic facilities       L   \n",
      "3      AUS  Australia   HO_HISH                 Housing expenditure       L   \n",
      "4      AUS  Australia   HO_HISH                 Housing expenditure       L   \n",
      "\n",
      "  Measure INEQUALITY Inequality Unit Code        Unit  ...  Reference Period  \\\n",
      "0   Value        TOT      Total        PC  Percentage  ...               NaN   \n",
      "1   Value         MN        Men        PC  Percentage  ...               NaN   \n",
      "2   Value        WMN      Women        PC  Percentage  ...               NaN   \n",
      "3   Value        TOT      Total        PC  Percentage  ...               NaN   \n",
      "4   Value         MN        Men        PC  Percentage  ...               NaN   \n",
      "\n",
      "  Value  Flag Codes            Flags  \\\n",
      "0   1.1           E  Estimated value   \n",
      "1   1.1           E  Estimated value   \n",
      "2   1.1           E  Estimated value   \n",
      "3  20.0         NaN              NaN   \n",
      "4  20.0           E  Estimated value   \n",
      "\n",
      "                                  Subject Descriptor         Units  Scale  \\\n",
      "0  Gross domestic product per capita, current prices  U.S. dollars  Units   \n",
      "1  Gross domestic product per capita, current prices  U.S. dollars  Units   \n",
      "2  Gross domestic product per capita, current prices  U.S. dollars  Units   \n",
      "3  Gross domestic product per capita, current prices  U.S. dollars  Units   \n",
      "4  Gross domestic product per capita, current prices  U.S. dollars  Units   \n",
      "\n",
      "                       Country/Series-specific Notes       2015  \\\n",
      "0  See notes for:  Gross domestic product, curren...  50961.865   \n",
      "1  See notes for:  Gross domestic product, curren...  50961.865   \n",
      "2  See notes for:  Gross domestic product, curren...  50961.865   \n",
      "3  See notes for:  Gross domestic product, curren...  50961.865   \n",
      "4  See notes for:  Gross domestic product, curren...  50961.865   \n",
      "\n",
      "  Estimates Start After  \n",
      "0                2014.0  \n",
      "1                2014.0  \n",
      "2                2014.0  \n",
      "3                2014.0  \n",
      "4                2014.0  \n",
      "\n",
      "[5 rows x 23 columns]\n"
     ]
    }
   ],
   "source": [
    "# Prepare the data\n",
    "country_stats = prepare_country_stats(oecd_bli, gdp_per_capita)\n",
    "\n",
    "# Print column names and first few rows to inspect\n",
    "print(country_stats.columns)\n",
    "print(country_stats.head())\n"
   ]
  },
  {
   "cell_type": "code",
   "execution_count": null,
   "id": "9afe0300-ef03-4734-b9ce-d8a4ba2ae5f5",
   "metadata": {},
   "outputs": [],
   "source": []
  }
 ],
 "metadata": {
  "kernelspec": {
   "display_name": "Python 3 (ipykernel)",
   "language": "python",
   "name": "python3"
  },
  "language_info": {
   "codemirror_mode": {
    "name": "ipython",
    "version": 3
   },
   "file_extension": ".py",
   "mimetype": "text/x-python",
   "name": "python",
   "nbconvert_exporter": "python",
   "pygments_lexer": "ipython3",
   "version": "3.11.7"
  }
 },
 "nbformat": 4,
 "nbformat_minor": 5
}
